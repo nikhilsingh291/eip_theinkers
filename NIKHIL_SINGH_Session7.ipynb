{
  "nbformat": 4,
  "nbformat_minor": 0,
  "metadata": {
    "colab": {
      "name": "NIKHIL_SINGH_Session7.ipynb",
      "version": "0.3.2",
      "provenance": []
    },
    "kernelspec": {
      "name": "python3",
      "display_name": "Python 3"
    }
  },
  "cells": [
    {
      "cell_type": "markdown",
      "metadata": {
        "id": "view-in-github",
        "colab_type": "text"
      },
      "source": [
        "[View in Colaboratory](https://colab.research.google.com/github/nikhilsingh291/eip_theinkers/blob/master/NIKHIL_SINGH_Session7.ipynb)"
      ]
    },
    {
      "metadata": {
        "id": "nGAM7AkNo5tq",
        "colab_type": "code",
        "colab": {}
      },
      "cell_type": "code",
      "source": [
        ""
      ],
      "execution_count": 0,
      "outputs": []
    },
    {
      "metadata": {
        "id": "LnKAVzfPo7Ra",
        "colab_type": "text"
      },
      "cell_type": "markdown",
      "source": [
        "#Deep Learning for Visual Question Answering\n",
        "\n",
        "\n",
        "![alt text](https://avisingh599.github.io/images/vqa/sample_results.jpg)\n",
        "\n",
        "This is about answering general english questions based on images by deep learning.\n",
        "\n",
        "I will be using LSTM+CNN approach to solve this problem and get a better accuracy."
      ]
    },
    {
      "metadata": {
        "id": "wwovdGnMziqr",
        "colab_type": "code",
        "colab": {
          "base_uri": "https://localhost:8080/",
          "height": 34
        },
        "outputId": "7d20a06c-ef9e-445b-c031-adaa0997b4a2"
      },
      "cell_type": "code",
      "source": [
        "!mkdir data\n",
        "%cd data\n"
      ],
      "execution_count": 2,
      "outputs": [
        {
          "output_type": "stream",
          "text": [
            "/content/data\n"
          ],
          "name": "stdout"
        }
      ]
    },
    {
      "metadata": {
        "id": "gqPW7VjC00iq",
        "colab_type": "code",
        "colab": {
          "base_uri": "https://localhost:8080/",
          "height": 1020
        },
        "outputId": "8151f591-e50c-4320-af81-ca115f8a43e8"
      },
      "cell_type": "code",
      "source": [
        "# Downloads the training and validation sets from visualqa.org. \n",
        "\n",
        "!wget http://visualqa.org/data/mscoco/vqa/Questions_Train_mscoco.zip\n",
        "!wget http://visualqa.org/data/mscoco/vqa/Questions_Val_mscoco.zip\n",
        "!wget http://visualqa.org/data/mscoco/vqa/Annotations_Train_mscoco.zip\n",
        "!wget http://visualqa.org/data/mscoco/vqa/Annotations_Val_mscoco.zip\n",
        "\n",
        "!unzip \\*.zip"
      ],
      "execution_count": 5,
      "outputs": [
        {
          "output_type": "stream",
          "text": [
            "--2018-06-01 19:29:41--  http://visualqa.org/data/mscoco/vqa/Questions_Train_mscoco.zip\r\n",
            "Resolving visualqa.org (visualqa.org)... 128.173.88.40\n",
            "Connecting to visualqa.org (visualqa.org)|128.173.88.40|:80... connected.\n",
            "HTTP request sent, awaiting response... 200 OK\n",
            "Length: 21985607 (21M) [application/zip]\n",
            "Saving to: ‘Questions_Train_mscoco.zip’\n",
            "\n",
            "Questions_Train_msc 100%[===================>]  20.97M  13.4MB/s    in 1.6s    \n",
            "\n",
            "2018-06-01 19:29:43 (13.4 MB/s) - ‘Questions_Train_mscoco.zip’ saved [21985607/21985607]\n",
            "\n",
            "--2018-06-01 19:29:44--  http://visualqa.org/data/mscoco/vqa/Questions_Val_mscoco.zip\n",
            "Resolving visualqa.org (visualqa.org)... 128.173.88.40\n",
            "Connecting to visualqa.org (visualqa.org)|128.173.88.40|:80... connected.\n",
            "HTTP request sent, awaiting response... 200 OK\n",
            "Length: 10594497 (10M) [application/zip]\n",
            "Saving to: ‘Questions_Val_mscoco.zip’\n",
            "\n",
            "Questions_Val_mscoc 100%[===================>]  10.10M  7.53MB/s    in 1.3s    \n",
            "\n",
            "2018-06-01 19:29:45 (7.53 MB/s) - ‘Questions_Val_mscoco.zip’ saved [10594497/10594497]\n",
            "\n",
            "--2018-06-01 19:29:47--  http://visualqa.org/data/mscoco/vqa/Annotations_Train_mscoco.zip\n",
            "Resolving visualqa.org (visualqa.org)... 128.173.88.40\n",
            "Connecting to visualqa.org (visualqa.org)|128.173.88.40|:80... connected.\n",
            "HTTP request sent, awaiting response... 200 OK\n",
            "Length: 12167843 (12M) [application/zip]\n",
            "Saving to: ‘Annotations_Train_mscoco.zip’\n",
            "\n",
            "Annotations_Train_m 100%[===================>]  11.60M  7.87MB/s    in 1.5s    \n",
            "\n",
            "2018-06-01 19:29:48 (7.87 MB/s) - ‘Annotations_Train_mscoco.zip’ saved [12167843/12167843]\n",
            "\n",
            "--2018-06-01 19:29:49--  http://visualqa.org/data/mscoco/vqa/Annotations_Val_mscoco.zip\n",
            "Resolving visualqa.org (visualqa.org)... 128.173.88.40\n",
            "Connecting to visualqa.org (visualqa.org)|128.173.88.40|:80... connected.\n",
            "HTTP request sent, awaiting response... 200 OK\n",
            "Length: 6031604 (5.8M) [application/zip]\n",
            "Saving to: ‘Annotations_Val_mscoco.zip’\n",
            "\n",
            "Annotations_Val_msc 100%[===================>]   5.75M  4.78MB/s    in 1.2s    \n",
            "\n",
            "2018-06-01 19:29:51 (4.78 MB/s) - ‘Annotations_Val_mscoco.zip’ saved [6031604/6031604]\n",
            "\n",
            "Archive:  Questions_Val_mscoco.zip\n",
            "  inflating: OpenEnded_mscoco_val2014_questions.json  \n",
            "  inflating: MultipleChoice_mscoco_val2014_questions.json  \n",
            "\n",
            "Archive:  Annotations_Val_mscoco.zip\n",
            "  inflating: mscoco_val2014_annotations.json  \n",
            "\n",
            "Archive:  Questions_Train_mscoco.zip\n",
            "  inflating: OpenEnded_mscoco_train2014_questions.json  \n",
            "  inflating: MultipleChoice_mscoco_train2014_questions.json  \n",
            "\n",
            "Archive:  Annotations_Train_mscoco.zip\n",
            "  inflating: mscoco_train2014_annotations.json  \n",
            "\n",
            "4 archives were successfully processed.\n"
          ],
          "name": "stdout"
        }
      ]
    },
    {
      "metadata": {
        "id": "N2pUh0pM0-xM",
        "colab_type": "code",
        "colab": {
          "base_uri": "https://localhost:8080/",
          "height": 34
        },
        "outputId": "7db32e15-acf7-4e28-f9fe-1df4e1b2a284"
      },
      "cell_type": "code",
      "source": [
        "!ls\n",
        "!cd ..\n",
        "!mkdir features"
      ],
      "execution_count": 9,
      "outputs": [
        {
          "output_type": "stream",
          "text": [
            "data  datalab\r\n"
          ],
          "name": "stdout"
        }
      ]
    },
    {
      "metadata": {
        "id": "QBpjm3NK1e1I",
        "colab_type": "code",
        "colab": {
          "base_uri": "https://localhost:8080/",
          "height": 374
        },
        "outputId": "a307f46f-42fa-4d88-9875-3c9af260a414"
      },
      "cell_type": "code",
      "source": [
        "%cd features\n",
        "!ls\n",
        "# Downloads and unzips the VGG features computed on the COCO dataset. \n",
        "\n",
        "!wget http://cs.stanford.edu/people/karpathy/deepimagesent/coco.zip\n",
        "!unzip coco.zip -d ."
      ],
      "execution_count": 11,
      "outputs": [
        {
          "output_type": "stream",
          "text": [
            "[Errno 2] No such file or directory: 'features'\n",
            "/content/features\n",
            "--2018-06-01 19:34:18--  http://cs.stanford.edu/people/karpathy/deepimagesent/coco.zip\n",
            "Resolving cs.stanford.edu (cs.stanford.edu)... 171.64.64.64\n",
            "Connecting to cs.stanford.edu (cs.stanford.edu)|171.64.64.64|:80... connected.\n",
            "HTTP request sent, awaiting response... 301 Moved Permanently\n",
            "Location: https://cs.stanford.edu/people/karpathy/deepimagesent/coco.zip [following]\n",
            "--2018-06-01 19:34:18--  https://cs.stanford.edu/people/karpathy/deepimagesent/coco.zip\n",
            "Connecting to cs.stanford.edu (cs.stanford.edu)|171.64.64.64|:443... connected.\n",
            "HTTP request sent, awaiting response... 200 OK\n",
            "Length: 764830639 (729M) [application/zip]\n",
            "Saving to: ‘coco.zip’\n",
            "\n",
            "coco.zip             47%[========>           ] 349.55M  12.5MB/s    eta 27s    "
          ],
          "name": "stdout"
        },
        {
          "output_type": "stream",
          "text": [
            "coco.zip            100%[===================>] 729.40M  13.4MB/s    in 50s     \n",
            "\n",
            "2018-06-01 19:35:08 (14.7 MB/s) - ‘coco.zip’ saved [764830639/764830639]\n",
            "\n",
            "Archive:  coco.zip\n",
            "  inflating: ./coco/dataset.json     \n",
            "  inflating: ./coco/readme.txt       \n",
            "  inflating: ./coco/vgg_feats.mat    \n"
          ],
          "name": "stdout"
        }
      ]
    },
    {
      "metadata": {
        "id": "_iyENfrO2Yc_",
        "colab_type": "code",
        "colab": {
          "base_uri": "https://localhost:8080/",
          "height": 34
        },
        "outputId": "d06b3ef5-5e52-49c9-961a-d438a9f34dc9"
      },
      "cell_type": "code",
      "source": [
        "!ls"
      ],
      "execution_count": 12,
      "outputs": [
        {
          "output_type": "stream",
          "text": [
            "coco  coco.zip\r\n"
          ],
          "name": "stdout"
        }
      ]
    },
    {
      "metadata": {
        "id": "ctvGZMoR2eSe",
        "colab_type": "code",
        "colab": {
          "base_uri": "https://localhost:8080/",
          "height": 51
        },
        "outputId": "92908436-03ec-4dd0-95ed-1cfd18041c65"
      },
      "cell_type": "code",
      "source": [
        "%cd coco\n",
        "!ls"
      ],
      "execution_count": 13,
      "outputs": [
        {
          "output_type": "stream",
          "text": [
            "/content/features/coco\n",
            "dataset.json  readme.txt  vgg_feats.mat\n"
          ],
          "name": "stdout"
        }
      ]
    }
  ]
}